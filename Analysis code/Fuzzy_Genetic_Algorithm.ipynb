{
  "nbformat": 4,
  "nbformat_minor": 0,
  "metadata": {
    "colab": {
      "provenance": []
    },
    "kernelspec": {
      "name": "python3",
      "display_name": "Python 3"
    },
    "language_info": {
      "name": "python"
    }
  },
  "cells": [
    {
      "cell_type": "code",
      "source": [
        "pip install pygad"
      ],
      "metadata": {
        "colab": {
          "base_uri": "https://localhost:8080/"
        },
        "id": "rcSMXiiAvgOO",
        "outputId": "520914ba-7a74-41c8-99b4-a47d06d65818"
      },
      "execution_count": 1,
      "outputs": [
        {
          "output_type": "stream",
          "name": "stdout",
          "text": [
            "Collecting pygad\n",
            "  Downloading pygad-3.2.0-py3-none-any.whl (80 kB)\n",
            "\u001b[?25l     \u001b[90m━━━━━━━━━━━━━━━━━━━━━━━━━━━━━━━━━━━━━━━━\u001b[0m \u001b[32m0.0/80.8 kB\u001b[0m \u001b[31m?\u001b[0m eta \u001b[36m-:--:--\u001b[0m\r\u001b[2K     \u001b[91m━━━━━━━━━━━━━━━━━━━━━━━━━━━━━━━━━━━\u001b[0m\u001b[90m╺\u001b[0m\u001b[90m━━━━\u001b[0m \u001b[32m71.7/80.8 kB\u001b[0m \u001b[31m2.2 MB/s\u001b[0m eta \u001b[36m0:00:01\u001b[0m\r\u001b[2K     \u001b[90m━━━━━━━━━━━━━━━━━━━━━━━━━━━━━━━━━━━━━━━━\u001b[0m \u001b[32m80.8/80.8 kB\u001b[0m \u001b[31m1.9 MB/s\u001b[0m eta \u001b[36m0:00:00\u001b[0m\n",
            "\u001b[?25hRequirement already satisfied: cloudpickle in /usr/local/lib/python3.10/dist-packages (from pygad) (2.2.1)\n",
            "Requirement already satisfied: matplotlib in /usr/local/lib/python3.10/dist-packages (from pygad) (3.7.1)\n",
            "Requirement already satisfied: numpy in /usr/local/lib/python3.10/dist-packages (from pygad) (1.23.5)\n",
            "Requirement already satisfied: contourpy>=1.0.1 in /usr/local/lib/python3.10/dist-packages (from matplotlib->pygad) (1.1.1)\n",
            "Requirement already satisfied: cycler>=0.10 in /usr/local/lib/python3.10/dist-packages (from matplotlib->pygad) (0.12.0)\n",
            "Requirement already satisfied: fonttools>=4.22.0 in /usr/local/lib/python3.10/dist-packages (from matplotlib->pygad) (4.43.0)\n",
            "Requirement already satisfied: kiwisolver>=1.0.1 in /usr/local/lib/python3.10/dist-packages (from matplotlib->pygad) (1.4.5)\n",
            "Requirement already satisfied: packaging>=20.0 in /usr/local/lib/python3.10/dist-packages (from matplotlib->pygad) (23.2)\n",
            "Requirement already satisfied: pillow>=6.2.0 in /usr/local/lib/python3.10/dist-packages (from matplotlib->pygad) (9.4.0)\n",
            "Requirement already satisfied: pyparsing>=2.3.1 in /usr/local/lib/python3.10/dist-packages (from matplotlib->pygad) (3.1.1)\n",
            "Requirement already satisfied: python-dateutil>=2.7 in /usr/local/lib/python3.10/dist-packages (from matplotlib->pygad) (2.8.2)\n",
            "Requirement already satisfied: six>=1.5 in /usr/local/lib/python3.10/dist-packages (from python-dateutil>=2.7->matplotlib->pygad) (1.16.0)\n",
            "Installing collected packages: pygad\n",
            "Successfully installed pygad-3.2.0\n"
          ]
        }
      ]
    },
    {
      "cell_type": "code",
      "execution_count": 2,
      "metadata": {
        "id": "sT1ZntD7B9i0"
      },
      "outputs": [],
      "source": [
        "import pandas as pd\n",
        "import numpy as np\n",
        "import pygad\n",
        "from google.colab import drive\n",
        "from google.colab import files"
      ]
    },
    {
      "cell_type": "code",
      "source": [
        "drive.mount('/content/Drive/')"
      ],
      "metadata": {
        "id": "Kz13tWT1CFNO",
        "colab": {
          "base_uri": "https://localhost:8080/"
        },
        "outputId": "4661c268-5805-4389-d6ff-350e5b680be8"
      },
      "execution_count": 3,
      "outputs": [
        {
          "output_type": "stream",
          "name": "stdout",
          "text": [
            "Mounted at /content/Drive/\n"
          ]
        }
      ]
    },
    {
      "cell_type": "code",
      "source": [
        "data_18 = pd.read_csv('/content/Drive/MyDrive/논문/model_18.csv')\n",
        "data_18.head()"
      ],
      "metadata": {
        "colab": {
          "base_uri": "https://localhost:8080/",
          "height": 206
        },
        "outputId": "b068fda7-3e8c-4015-e65b-0f016088b07e",
        "id": "cFVmolpBfKWC"
      },
      "execution_count": 4,
      "outputs": [
        {
          "output_type": "execute_result",
          "data": {
            "text/plain": [
              "       temp      wind  humidity  barometer  day_power  sky_cover\n",
              "0  0.312052  0.234784  0.778769   0.638520   0.058824          2\n",
              "1  0.369939  0.412924  0.725910   0.424439   0.058824          3\n",
              "2  0.352761  0.572187  0.709644   0.296313   0.058824          5\n",
              "3  0.348520  0.334605  0.751113   0.118489   0.029412          3\n",
              "4  0.348466  0.313384  0.735478   0.160241   0.029412          6"
            ],
            "text/html": [
              "\n",
              "  <div id=\"df-1cbb1996-9a04-40cf-8ebd-c116f46d0bb0\" class=\"colab-df-container\">\n",
              "    <div>\n",
              "<style scoped>\n",
              "    .dataframe tbody tr th:only-of-type {\n",
              "        vertical-align: middle;\n",
              "    }\n",
              "\n",
              "    .dataframe tbody tr th {\n",
              "        vertical-align: top;\n",
              "    }\n",
              "\n",
              "    .dataframe thead th {\n",
              "        text-align: right;\n",
              "    }\n",
              "</style>\n",
              "<table border=\"1\" class=\"dataframe\">\n",
              "  <thead>\n",
              "    <tr style=\"text-align: right;\">\n",
              "      <th></th>\n",
              "      <th>temp</th>\n",
              "      <th>wind</th>\n",
              "      <th>humidity</th>\n",
              "      <th>barometer</th>\n",
              "      <th>day_power</th>\n",
              "      <th>sky_cover</th>\n",
              "    </tr>\n",
              "  </thead>\n",
              "  <tbody>\n",
              "    <tr>\n",
              "      <th>0</th>\n",
              "      <td>0.312052</td>\n",
              "      <td>0.234784</td>\n",
              "      <td>0.778769</td>\n",
              "      <td>0.638520</td>\n",
              "      <td>0.058824</td>\n",
              "      <td>2</td>\n",
              "    </tr>\n",
              "    <tr>\n",
              "      <th>1</th>\n",
              "      <td>0.369939</td>\n",
              "      <td>0.412924</td>\n",
              "      <td>0.725910</td>\n",
              "      <td>0.424439</td>\n",
              "      <td>0.058824</td>\n",
              "      <td>3</td>\n",
              "    </tr>\n",
              "    <tr>\n",
              "      <th>2</th>\n",
              "      <td>0.352761</td>\n",
              "      <td>0.572187</td>\n",
              "      <td>0.709644</td>\n",
              "      <td>0.296313</td>\n",
              "      <td>0.058824</td>\n",
              "      <td>5</td>\n",
              "    </tr>\n",
              "    <tr>\n",
              "      <th>3</th>\n",
              "      <td>0.348520</td>\n",
              "      <td>0.334605</td>\n",
              "      <td>0.751113</td>\n",
              "      <td>0.118489</td>\n",
              "      <td>0.029412</td>\n",
              "      <td>3</td>\n",
              "    </tr>\n",
              "    <tr>\n",
              "      <th>4</th>\n",
              "      <td>0.348466</td>\n",
              "      <td>0.313384</td>\n",
              "      <td>0.735478</td>\n",
              "      <td>0.160241</td>\n",
              "      <td>0.029412</td>\n",
              "      <td>6</td>\n",
              "    </tr>\n",
              "  </tbody>\n",
              "</table>\n",
              "</div>\n",
              "    <div class=\"colab-df-buttons\">\n",
              "\n",
              "  <div class=\"colab-df-container\">\n",
              "    <button class=\"colab-df-convert\" onclick=\"convertToInteractive('df-1cbb1996-9a04-40cf-8ebd-c116f46d0bb0')\"\n",
              "            title=\"Convert this dataframe to an interactive table.\"\n",
              "            style=\"display:none;\">\n",
              "\n",
              "  <svg xmlns=\"http://www.w3.org/2000/svg\" height=\"24px\" viewBox=\"0 -960 960 960\">\n",
              "    <path d=\"M120-120v-720h720v720H120Zm60-500h600v-160H180v160Zm220 220h160v-160H400v160Zm0 220h160v-160H400v160ZM180-400h160v-160H180v160Zm440 0h160v-160H620v160ZM180-180h160v-160H180v160Zm440 0h160v-160H620v160Z\"/>\n",
              "  </svg>\n",
              "    </button>\n",
              "\n",
              "  <style>\n",
              "    .colab-df-container {\n",
              "      display:flex;\n",
              "      gap: 12px;\n",
              "    }\n",
              "\n",
              "    .colab-df-convert {\n",
              "      background-color: #E8F0FE;\n",
              "      border: none;\n",
              "      border-radius: 50%;\n",
              "      cursor: pointer;\n",
              "      display: none;\n",
              "      fill: #1967D2;\n",
              "      height: 32px;\n",
              "      padding: 0 0 0 0;\n",
              "      width: 32px;\n",
              "    }\n",
              "\n",
              "    .colab-df-convert:hover {\n",
              "      background-color: #E2EBFA;\n",
              "      box-shadow: 0px 1px 2px rgba(60, 64, 67, 0.3), 0px 1px 3px 1px rgba(60, 64, 67, 0.15);\n",
              "      fill: #174EA6;\n",
              "    }\n",
              "\n",
              "    .colab-df-buttons div {\n",
              "      margin-bottom: 4px;\n",
              "    }\n",
              "\n",
              "    [theme=dark] .colab-df-convert {\n",
              "      background-color: #3B4455;\n",
              "      fill: #D2E3FC;\n",
              "    }\n",
              "\n",
              "    [theme=dark] .colab-df-convert:hover {\n",
              "      background-color: #434B5C;\n",
              "      box-shadow: 0px 1px 3px 1px rgba(0, 0, 0, 0.15);\n",
              "      filter: drop-shadow(0px 1px 2px rgba(0, 0, 0, 0.3));\n",
              "      fill: #FFFFFF;\n",
              "    }\n",
              "  </style>\n",
              "\n",
              "    <script>\n",
              "      const buttonEl =\n",
              "        document.querySelector('#df-1cbb1996-9a04-40cf-8ebd-c116f46d0bb0 button.colab-df-convert');\n",
              "      buttonEl.style.display =\n",
              "        google.colab.kernel.accessAllowed ? 'block' : 'none';\n",
              "\n",
              "      async function convertToInteractive(key) {\n",
              "        const element = document.querySelector('#df-1cbb1996-9a04-40cf-8ebd-c116f46d0bb0');\n",
              "        const dataTable =\n",
              "          await google.colab.kernel.invokeFunction('convertToInteractive',\n",
              "                                                    [key], {});\n",
              "        if (!dataTable) return;\n",
              "\n",
              "        const docLinkHtml = 'Like what you see? Visit the ' +\n",
              "          '<a target=\"_blank\" href=https://colab.research.google.com/notebooks/data_table.ipynb>data table notebook</a>'\n",
              "          + ' to learn more about interactive tables.';\n",
              "        element.innerHTML = '';\n",
              "        dataTable['output_type'] = 'display_data';\n",
              "        await google.colab.output.renderOutput(dataTable, element);\n",
              "        const docLink = document.createElement('div');\n",
              "        docLink.innerHTML = docLinkHtml;\n",
              "        element.appendChild(docLink);\n",
              "      }\n",
              "    </script>\n",
              "  </div>\n",
              "\n",
              "\n",
              "<div id=\"df-b53df0d2-57e0-4101-bf56-0b6654ac4a36\">\n",
              "  <button class=\"colab-df-quickchart\" onclick=\"quickchart('df-b53df0d2-57e0-4101-bf56-0b6654ac4a36')\"\n",
              "            title=\"Suggest charts.\"\n",
              "            style=\"display:none;\">\n",
              "\n",
              "<svg xmlns=\"http://www.w3.org/2000/svg\" height=\"24px\"viewBox=\"0 0 24 24\"\n",
              "     width=\"24px\">\n",
              "    <g>\n",
              "        <path d=\"M19 3H5c-1.1 0-2 .9-2 2v14c0 1.1.9 2 2 2h14c1.1 0 2-.9 2-2V5c0-1.1-.9-2-2-2zM9 17H7v-7h2v7zm4 0h-2V7h2v10zm4 0h-2v-4h2v4z\"/>\n",
              "    </g>\n",
              "</svg>\n",
              "  </button>\n",
              "\n",
              "<style>\n",
              "  .colab-df-quickchart {\n",
              "      --bg-color: #E8F0FE;\n",
              "      --fill-color: #1967D2;\n",
              "      --hover-bg-color: #E2EBFA;\n",
              "      --hover-fill-color: #174EA6;\n",
              "      --disabled-fill-color: #AAA;\n",
              "      --disabled-bg-color: #DDD;\n",
              "  }\n",
              "\n",
              "  [theme=dark] .colab-df-quickchart {\n",
              "      --bg-color: #3B4455;\n",
              "      --fill-color: #D2E3FC;\n",
              "      --hover-bg-color: #434B5C;\n",
              "      --hover-fill-color: #FFFFFF;\n",
              "      --disabled-bg-color: #3B4455;\n",
              "      --disabled-fill-color: #666;\n",
              "  }\n",
              "\n",
              "  .colab-df-quickchart {\n",
              "    background-color: var(--bg-color);\n",
              "    border: none;\n",
              "    border-radius: 50%;\n",
              "    cursor: pointer;\n",
              "    display: none;\n",
              "    fill: var(--fill-color);\n",
              "    height: 32px;\n",
              "    padding: 0;\n",
              "    width: 32px;\n",
              "  }\n",
              "\n",
              "  .colab-df-quickchart:hover {\n",
              "    background-color: var(--hover-bg-color);\n",
              "    box-shadow: 0 1px 2px rgba(60, 64, 67, 0.3), 0 1px 3px 1px rgba(60, 64, 67, 0.15);\n",
              "    fill: var(--button-hover-fill-color);\n",
              "  }\n",
              "\n",
              "  .colab-df-quickchart-complete:disabled,\n",
              "  .colab-df-quickchart-complete:disabled:hover {\n",
              "    background-color: var(--disabled-bg-color);\n",
              "    fill: var(--disabled-fill-color);\n",
              "    box-shadow: none;\n",
              "  }\n",
              "\n",
              "  .colab-df-spinner {\n",
              "    border: 2px solid var(--fill-color);\n",
              "    border-color: transparent;\n",
              "    border-bottom-color: var(--fill-color);\n",
              "    animation:\n",
              "      spin 1s steps(1) infinite;\n",
              "  }\n",
              "\n",
              "  @keyframes spin {\n",
              "    0% {\n",
              "      border-color: transparent;\n",
              "      border-bottom-color: var(--fill-color);\n",
              "      border-left-color: var(--fill-color);\n",
              "    }\n",
              "    20% {\n",
              "      border-color: transparent;\n",
              "      border-left-color: var(--fill-color);\n",
              "      border-top-color: var(--fill-color);\n",
              "    }\n",
              "    30% {\n",
              "      border-color: transparent;\n",
              "      border-left-color: var(--fill-color);\n",
              "      border-top-color: var(--fill-color);\n",
              "      border-right-color: var(--fill-color);\n",
              "    }\n",
              "    40% {\n",
              "      border-color: transparent;\n",
              "      border-right-color: var(--fill-color);\n",
              "      border-top-color: var(--fill-color);\n",
              "    }\n",
              "    60% {\n",
              "      border-color: transparent;\n",
              "      border-right-color: var(--fill-color);\n",
              "    }\n",
              "    80% {\n",
              "      border-color: transparent;\n",
              "      border-right-color: var(--fill-color);\n",
              "      border-bottom-color: var(--fill-color);\n",
              "    }\n",
              "    90% {\n",
              "      border-color: transparent;\n",
              "      border-bottom-color: var(--fill-color);\n",
              "    }\n",
              "  }\n",
              "</style>\n",
              "\n",
              "  <script>\n",
              "    async function quickchart(key) {\n",
              "      const quickchartButtonEl =\n",
              "        document.querySelector('#' + key + ' button');\n",
              "      quickchartButtonEl.disabled = true;  // To prevent multiple clicks.\n",
              "      quickchartButtonEl.classList.add('colab-df-spinner');\n",
              "      try {\n",
              "        const charts = await google.colab.kernel.invokeFunction(\n",
              "            'suggestCharts', [key], {});\n",
              "      } catch (error) {\n",
              "        console.error('Error during call to suggestCharts:', error);\n",
              "      }\n",
              "      quickchartButtonEl.classList.remove('colab-df-spinner');\n",
              "      quickchartButtonEl.classList.add('colab-df-quickchart-complete');\n",
              "    }\n",
              "    (() => {\n",
              "      let quickchartButtonEl =\n",
              "        document.querySelector('#df-b53df0d2-57e0-4101-bf56-0b6654ac4a36 button');\n",
              "      quickchartButtonEl.style.display =\n",
              "        google.colab.kernel.accessAllowed ? 'block' : 'none';\n",
              "    })();\n",
              "  </script>\n",
              "</div>\n",
              "    </div>\n",
              "  </div>\n"
            ]
          },
          "metadata": {},
          "execution_count": 4
        }
      ]
    },
    {
      "cell_type": "code",
      "source": [
        "len(data_18)"
      ],
      "metadata": {
        "colab": {
          "base_uri": "https://localhost:8080/"
        },
        "id": "qCamSb3tt9bP",
        "outputId": "24a02b1a-5b88-4555-86db-0406bf362167"
      },
      "execution_count": 5,
      "outputs": [
        {
          "output_type": "execute_result",
          "data": {
            "text/plain": [
              "1332"
            ]
          },
          "metadata": {},
          "execution_count": 5
        }
      ]
    },
    {
      "cell_type": "markdown",
      "source": [
        "* temp, wind, humidity 퍼지화"
      ],
      "metadata": {
        "id": "zNmI7CPGsfAA"
      }
    },
    {
      "cell_type": "code",
      "source": [
        "data = data_18['temp']\n",
        "X_fuz = []\n",
        "for i in range(len(data)-1):\n",
        "  spread = np.abs(data[i] - data[i+1]) / 2\n",
        "  X_fuz.append([data[i] - spread, data[i], data[i] + spread])\n",
        "X_fuz.append([data[len(data)-1] - spread, data[len(data)-1], data[len(data)-1] + spread])"
      ],
      "metadata": {
        "id": "iTapAyS1sfAB"
      },
      "execution_count": 6,
      "outputs": []
    },
    {
      "cell_type": "code",
      "source": [
        "X_fuz = np.array(X_fuz)\n",
        "X_fuz"
      ],
      "metadata": {
        "colab": {
          "base_uri": "https://localhost:8080/"
        },
        "outputId": "4a279de1-ccea-4fcd-b482-aa3a199d064d",
        "id": "3hwsApoisfAB"
      },
      "execution_count": 7,
      "outputs": [
        {
          "output_type": "execute_result",
          "data": {
            "text/plain": [
              "array([[0.28310838, 0.31205181, 0.34099523],\n",
              "       [0.36134969, 0.36993865, 0.37852761],\n",
              "       [0.35064017, 0.35276074, 0.3548813 ],\n",
              "       ...,\n",
              "       [0.22226483, 0.25710634, 0.29194785],\n",
              "       [0.30696575, 0.32678937, 0.34661299],\n",
              "       [0.26731851, 0.28714213, 0.30696575]])"
            ]
          },
          "metadata": {},
          "execution_count": 7
        }
      ]
    },
    {
      "cell_type": "code",
      "source": [
        "data = data_18['wind']\n",
        "Z_fuz = []\n",
        "for i in range(len(data)-1):\n",
        "  spread = np.abs(data[i] - data[i+1]) / 2\n",
        "  Z_fuz.append([data[i] - spread, data[i], data[i] + spread])\n",
        "Z_fuz.append([data[len(data)-1] - spread, data[len(data)-1], data[len(data)-1] + spread])"
      ],
      "metadata": {
        "id": "bpEcx_BlsfAB"
      },
      "execution_count": 8,
      "outputs": []
    },
    {
      "cell_type": "code",
      "source": [
        "Z_fuz = np.array(Z_fuz)\n",
        "Z_fuz"
      ],
      "metadata": {
        "colab": {
          "base_uri": "https://localhost:8080/"
        },
        "outputId": "37837b73-8f28-4a53-a07e-02c7e3a9b5f6",
        "id": "MeztBqoVsfAB"
      },
      "execution_count": 9,
      "outputs": [
        {
          "output_type": "execute_result",
          "data": {
            "text/plain": [
              "array([[0.14571496, 0.23478449, 0.32385403],\n",
              "       [0.33329186, 0.41292356, 0.49255527],\n",
              "       [0.4533958 , 0.57218697, 0.69097814],\n",
              "       ...,\n",
              "       [0.00877193, 0.10331384, 0.19785575],\n",
              "       [0.26250812, 0.29239766, 0.3222872 ],\n",
              "       [0.20272904, 0.23261858, 0.26250812]])"
            ]
          },
          "metadata": {},
          "execution_count": 9
        }
      ]
    },
    {
      "cell_type": "code",
      "source": [
        "data = data_18['humidity']\n",
        "M_fuz = []\n",
        "for i in range(len(data)-1):\n",
        "  spread = np.abs(data[i] - data[i+1]) / 2\n",
        "  M_fuz.append([data[i] - spread, data[i], data[i] + spread])\n",
        "M_fuz.append([data[len(data)-1] - spread, data[len(data)-1], data[len(data)-1] + spread])"
      ],
      "metadata": {
        "id": "sGZsZpIzsfAB"
      },
      "execution_count": 10,
      "outputs": []
    },
    {
      "cell_type": "code",
      "source": [
        "M_fuz = np.array(M_fuz)\n",
        "M_fuz"
      ],
      "metadata": {
        "colab": {
          "base_uri": "https://localhost:8080/"
        },
        "outputId": "93d56065-f7ab-444a-f196-ff48876a5556",
        "id": "eJX4I_F1sfAB"
      },
      "execution_count": 11,
      "outputs": [
        {
          "output_type": "execute_result",
          "data": {
            "text/plain": [
              "array([[0.75233957, 0.77876915, 0.80519874],\n",
              "       [0.71777698, 0.72590998, 0.73404298],\n",
              "       [0.68890934, 0.70964398, 0.73037862],\n",
              "       ...,\n",
              "       [0.78451541, 0.80918683, 0.83385826],\n",
              "       [0.72049462, 0.75984399, 0.79919335],\n",
              "       [0.6417959 , 0.68114526, 0.72049462]])"
            ]
          },
          "metadata": {},
          "execution_count": 11
        }
      ]
    },
    {
      "cell_type": "markdown",
      "source": [
        "* sky cover 퍼지화"
      ],
      "metadata": {
        "id": "vod90ulJsfAC"
      }
    },
    {
      "cell_type": "code",
      "source": [
        "W_fuz = np.array([data_18['sky_cover'] - 1, data_18['sky_cover'], data_18['sky_cover'] + 1]).T\n",
        "W_fuz"
      ],
      "metadata": {
        "colab": {
          "base_uri": "https://localhost:8080/"
        },
        "outputId": "1387256d-eeb0-4609-c17c-af0c82ec8f9e",
        "id": "tijNJ-jjsfAC"
      },
      "execution_count": 12,
      "outputs": [
        {
          "output_type": "execute_result",
          "data": {
            "text/plain": [
              "array([[1, 2, 3],\n",
              "       [2, 3, 4],\n",
              "       [4, 5, 6],\n",
              "       ...,\n",
              "       [1, 2, 3],\n",
              "       [6, 7, 8],\n",
              "       [3, 4, 5]])"
            ]
          },
          "metadata": {},
          "execution_count": 12
        }
      ]
    },
    {
      "cell_type": "code",
      "source": [
        "row, col = W_fuz.shape"
      ],
      "metadata": {
        "id": "dlWwla0hsfAC"
      },
      "execution_count": 13,
      "outputs": []
    },
    {
      "cell_type": "code",
      "source": [
        "for i in range(row):    # 1~8 이므로 1보다 작거나 8보다 큰 부분 수정\n",
        "  if W_fuz[i][0] < 1:\n",
        "    W_fuz[i][0] = 1\n",
        "  elif W_fuz[i][2] >8:\n",
        "    W_fuz[i][2] = 8"
      ],
      "metadata": {
        "id": "gvmur4fJsfAC"
      },
      "execution_count": 14,
      "outputs": []
    },
    {
      "cell_type": "markdown",
      "source": [
        "* day_power crisp"
      ],
      "metadata": {
        "id": "b8YLYxB7sfAC"
      }
    },
    {
      "cell_type": "code",
      "source": [
        "Y_fuz = np.array([data_18['day_power'], data_18['day_power'], data_18['day_power']]).T\n",
        "Y_fuz"
      ],
      "metadata": {
        "colab": {
          "base_uri": "https://localhost:8080/"
        },
        "outputId": "f7a89e29-66fb-4f27-ce80-9139585acfc7",
        "id": "Czdc4WThsfAC"
      },
      "execution_count": 15,
      "outputs": [
        {
          "output_type": "execute_result",
          "data": {
            "text/plain": [
              "array([[0.05882353, 0.05882353, 0.05882353],\n",
              "       [0.05882353, 0.05882353, 0.05882353],\n",
              "       [0.05882353, 0.05882353, 0.05882353],\n",
              "       ...,\n",
              "       [0.08823529, 0.08823529, 0.08823529],\n",
              "       [0.        , 0.        , 0.        ],\n",
              "       [0.17647059, 0.17647059, 0.17647059]])"
            ]
          },
          "metadata": {},
          "execution_count": 15
        }
      ]
    },
    {
      "cell_type": "code",
      "source": [
        "Y_fuz.shape"
      ],
      "metadata": {
        "colab": {
          "base_uri": "https://localhost:8080/"
        },
        "outputId": "d09e197e-136a-4335-a2bc-9d2bd8e6436b",
        "id": "C3u9ElWcsfAC"
      },
      "execution_count": 16,
      "outputs": [
        {
          "output_type": "execute_result",
          "data": {
            "text/plain": [
              "(1332, 3)"
            ]
          },
          "metadata": {},
          "execution_count": 16
        }
      ]
    },
    {
      "cell_type": "code",
      "source": [
        "XW_fuz = X_fuz * W_fuz\n",
        "XZ_fuz = X_fuz * Z_fuz\n",
        "WZ_fuz = W_fuz * Z_fuz\n",
        "XWZ_fuz = X_fuz * W_fuz * Z_fuz"
      ],
      "metadata": {
        "id": "tW6i_Y9VsfAD"
      },
      "execution_count": 17,
      "outputs": []
    },
    {
      "cell_type": "code",
      "source": [
        "one = np.ones((1332,3))"
      ],
      "metadata": {
        "id": "gfRvznnW5LpK"
      },
      "execution_count": 18,
      "outputs": []
    },
    {
      "cell_type": "markdown",
      "source": [
        "## GA 입력을 위해 삼각퍼지수 쪼개기"
      ],
      "metadata": {
        "id": "KqPMP5g25NRq"
      }
    },
    {
      "cell_type": "code",
      "source": [
        "X_l = []\n",
        "X_m = []\n",
        "X_r = []\n",
        "\n",
        "M_l = []\n",
        "M_m = []\n",
        "M_r = []\n",
        "\n",
        "Y_l = []\n",
        "Y_m = []\n",
        "Y_r = []\n",
        "\n",
        "W_l = []\n",
        "W_m = []\n",
        "W_r = []\n",
        "\n",
        "Z_l = []\n",
        "Z_m = []\n",
        "Z_r = []\n",
        "\n",
        "XW_l = []\n",
        "XW_m = []\n",
        "XW_r = []\n",
        "\n",
        "XZ_l = []\n",
        "XZ_m = []\n",
        "XZ_r = []\n",
        "\n",
        "WZ_l = []\n",
        "WZ_m = []\n",
        "WZ_r = []\n",
        "\n",
        "XWZ_l = []\n",
        "XWZ_m = []\n",
        "XWZ_r = []"
      ],
      "metadata": {
        "id": "g6ksVVvo5Vkl"
      },
      "execution_count": 19,
      "outputs": []
    },
    {
      "cell_type": "code",
      "source": [
        "for i in range(len(data_18)):\n",
        "  X_l.append(X_fuz[i][0])\n",
        "  X_m.append(X_fuz[i][1])\n",
        "  X_r.append(X_fuz[i][2])"
      ],
      "metadata": {
        "id": "UmPnP8S45tzu"
      },
      "execution_count": 20,
      "outputs": []
    },
    {
      "cell_type": "code",
      "source": [
        "for i in range(len(data_18)):\n",
        "  M_l.append(M_fuz[i][0])\n",
        "  M_m.append(M_fuz[i][1])\n",
        "  M_r.append(M_fuz[i][2])\n",
        "\n",
        "for i in range(len(data_18)):\n",
        "  Y_l.append(Y_fuz[i][0])\n",
        "  Y_m.append(Y_fuz[i][1])\n",
        "  Y_r.append(Y_fuz[i][2])\n",
        "\n",
        "for i in range(len(data_18)):\n",
        "  W_l.append(W_fuz[i][0])\n",
        "  W_m.append(W_fuz[i][1])\n",
        "  W_r.append(W_fuz[i][2])\n",
        "\n",
        "for i in range(len(data_18)):\n",
        "  Z_l.append(Z_fuz[i][0])\n",
        "  Z_m.append(Z_fuz[i][1])\n",
        "  Z_r.append(Z_fuz[i][2])\n",
        "\n",
        "for i in range(len(data_18)):\n",
        "  XW_l.append(XW_fuz[i][0])\n",
        "  XW_m.append(XW_fuz[i][1])\n",
        "  XW_r.append(XW_fuz[i][2])\n",
        "\n",
        "for i in range(len(data_18)):\n",
        "  XZ_l.append(XZ_fuz[i][0])\n",
        "  XZ_m.append(XZ_fuz[i][1])\n",
        "  XZ_r.append(XZ_fuz[i][2])\n",
        "\n",
        "for i in range(len(data_18)):\n",
        "  WZ_l.append(WZ_fuz[i][0])\n",
        "  WZ_m.append(WZ_fuz[i][1])\n",
        "  WZ_r.append(WZ_fuz[i][2])\n",
        "\n",
        "for i in range(len(data_18)):\n",
        "  XWZ_l.append(XWZ_fuz[i][0])\n",
        "  XWZ_m.append(XWZ_fuz[i][1])\n",
        "  XWZ_r.append(XWZ_fuz[i][2])"
      ],
      "metadata": {
        "id": "rGhKLkMg5-j-"
      },
      "execution_count": 21,
      "outputs": []
    },
    {
      "cell_type": "markdown",
      "source": [
        "----"
      ],
      "metadata": {
        "id": "-WJ3A29i5-pQ"
      }
    },
    {
      "cell_type": "markdown",
      "source": [
        "# L2-metric"
      ],
      "metadata": {
        "id": "QebflZqH5_2Y"
      }
    },
    {
      "cell_type": "markdown",
      "source": [
        "## M 추정"
      ],
      "metadata": {
        "id": "bXQjoDeS6JZl"
      }
    },
    {
      "cell_type": "code",
      "source": [
        "# GA parameter 세팅\n",
        "\n",
        "sol_per_pop = 100\n",
        "num_genes = 8               # bias 포함\n",
        "init_range_low = -1\n",
        "init_range_high = 1\n",
        "\n",
        "\n",
        "num_generations = 100\n",
        "num_parents_mating = 5\n",
        "gene_type = float\n",
        "parent_selection_type = \"rws\"  # rws, rank\n",
        "keep_parents = 3\n",
        "\n",
        "crossover_type = \"single_point\"\n",
        "mutation_type = \"random\"\n",
        "mutation_percent_genes = 5"
      ],
      "metadata": {
        "id": "BpszOGTW6JZm"
      },
      "execution_count": 48,
      "outputs": []
    },
    {
      "cell_type": "code",
      "source": [
        "one = np.ones((1332)) # bias"
      ],
      "metadata": {
        "id": "FdidSrkg6JZm"
      },
      "execution_count": 49,
      "outputs": []
    },
    {
      "cell_type": "code",
      "source": [
        "m_data_l = np.array([one, X_l, W_l, Z_l, XW_l, XZ_l, WZ_l, XWZ_l]).T\n",
        "m_data_m = np.array([one, X_m, W_m, Z_m, XW_m, XZ_m, WZ_m, XWZ_m]).T\n",
        "m_data_r = np.array([one, X_r, W_r, Z_r, XW_r, XZ_r, WZ_r, XWZ_r]).T"
      ],
      "metadata": {
        "id": "ozZMG7586JZm"
      },
      "execution_count": 24,
      "outputs": []
    },
    {
      "cell_type": "code",
      "source": [
        "m_data_l.shape"
      ],
      "metadata": {
        "colab": {
          "base_uri": "https://localhost:8080/"
        },
        "outputId": "2f2f5ec2-132d-4d7e-dd06-909fa18f5407",
        "id": "c83KDss06JZm"
      },
      "execution_count": 25,
      "outputs": [
        {
          "output_type": "execute_result",
          "data": {
            "text/plain": [
              "(1332, 8)"
            ]
          },
          "metadata": {},
          "execution_count": 25
        }
      ]
    },
    {
      "cell_type": "code",
      "source": [
        "def fitness_function_factory(X_l, X_m, X_r, Y_l, Y_m, Y_r):\n",
        "      def fitness_function(ga_instance,solution, solution_idx):\n",
        "\n",
        "          Y_hat_l = solution[0]*X_l[:,0] +solution[1]*X_l[:,1] +solution[2]*X_l[:,2] +solution[3]*X_l[:,3] +solution[4]*X_l[:,4] +solution[5]*X_l[:,5] +solution[6]*X_l[:,6] +solution[7]*X_l[:,7]\n",
        "          Y_hat_m = solution[0]*X_m[:,0] +solution[1]*X_m[:,1] +solution[2]*X_m[:,2] +solution[3]*X_m[:,3] +solution[4]*X_m[:,4] +solution[5]*X_m[:,5] +solution[6]*X_m[:,6] +solution[7]*X_m[:,7]\n",
        "          Y_hat_r = solution[0]*X_r[:,0] +solution[1]*X_r[:,1] +solution[2]*X_r[:,2] +solution[3]*X_r[:,3] +solution[4]*X_r[:,4] +solution[5]*X_r[:,5] +solution[6]*X_r[:,6] +solution[7]*X_r[:,7]\n",
        "          error = ((Y_l - Y_hat_l) ** 2).sum() + ((Y_m - Y_hat_m) ** 2).sum() + ((Y_r - Y_hat_r) ** 2).sum()\n",
        "          fitness = 1/(error)\n",
        "          return fitness\n",
        "\n",
        "      return fitness_function"
      ],
      "metadata": {
        "id": "5Q-JInKh6JZm"
      },
      "execution_count": 50,
      "outputs": []
    },
    {
      "cell_type": "code",
      "source": [
        "lr_ga = pygad.GA(num_generations=num_generations,\n",
        "                        num_parents_mating=num_parents_mating,\n",
        "                        fitness_func=fitness_function_factory(m_data_l, m_data_m, m_data_r, M_l, M_m, M_r),\n",
        "                        sol_per_pop=sol_per_pop,\n",
        "                        num_genes=num_genes,\n",
        "                        init_range_low=init_range_low,\n",
        "                        init_range_high=init_range_high,\n",
        "                        parent_selection_type=parent_selection_type,\n",
        "                        keep_parents=keep_parents,\n",
        "                        crossover_type=crossover_type,\n",
        "                        mutation_type=mutation_type,\n",
        "                        mutation_percent_genes=mutation_percent_genes,\n",
        "                        gene_type=gene_type,\n",
        "                        random_seed=18)\n",
        "lr_ga.run()\n",
        "sol=lr_ga.best_solution()[0]\n",
        "sol"
      ],
      "metadata": {
        "colab": {
          "base_uri": "https://localhost:8080/"
        },
        "outputId": "ecdb418f-227d-4270-9e72-a80dc2b3cf13",
        "id": "fehdQrj86JZn"
      },
      "execution_count": 51,
      "outputs": [
        {
          "output_type": "execute_result",
          "data": {
            "text/plain": [
              "array([ 0.69018803, -0.28883019,  0.11026186, -0.87526932, -0.17750213,\n",
              "        1.19110617, -0.04794752,  0.22333366])"
            ]
          },
          "metadata": {},
          "execution_count": 51
        }
      ]
    },
    {
      "cell_type": "code",
      "source": [
        "print(sol)"
      ],
      "metadata": {
        "colab": {
          "base_uri": "https://localhost:8080/"
        },
        "outputId": "63cb135a-667e-4380-99c5-96892f98996e",
        "id": "gbL2mvGx6JZo"
      },
      "execution_count": 52,
      "outputs": [
        {
          "output_type": "stream",
          "name": "stdout",
          "text": [
            "[ 0.69018803 -0.28883019  0.11026186 -0.87526932 -0.17750213  1.19110617\n",
            " -0.04794752  0.22333366]\n"
          ]
        }
      ]
    },
    {
      "cell_type": "code",
      "source": [
        "M_hat = 0.6902 + -0.2888*X_fuz + 0.1103*W_fuz + -0.8753*Z_fuz + -0.1775*XW_fuz + 1.1911*XZ_fuz + -0.0479*WZ_fuz + 0.2233*XWZ_fuz"
      ],
      "metadata": {
        "id": "98RWTRb7lhWv"
      },
      "execution_count": 53,
      "outputs": []
    },
    {
      "cell_type": "markdown",
      "source": [
        "----"
      ],
      "metadata": {
        "id": "-mO8mQj16JZo"
      }
    },
    {
      "cell_type": "markdown",
      "source": [
        "## Y 추정"
      ],
      "metadata": {
        "id": "XRNHxi476JZp"
      }
    },
    {
      "cell_type": "code",
      "source": [
        "# GA parameter 세팅\n",
        "\n",
        "sol_per_pop = 100\n",
        "num_genes = 3              # bias 포함\n",
        "init_range_low = 1\n",
        "init_range_high = -1\n",
        "\n",
        "\n",
        "num_generations = 100\n",
        "num_parents_mating = 5\n",
        "gene_type = float\n",
        "parent_selection_type = \"rws\"  # rws, rank\n",
        "keep_parents = 3\n",
        "\n",
        "crossover_type = \"single_point\"\n",
        "mutation_type = \"random\"\n",
        "mutation_percent_genes = 5"
      ],
      "metadata": {
        "id": "EFZqJAxz6JZp"
      },
      "execution_count": 54,
      "outputs": []
    },
    {
      "cell_type": "code",
      "source": [
        "one = np.ones((1332)) # bias"
      ],
      "metadata": {
        "id": "ED9ogVeT6JZp"
      },
      "execution_count": 55,
      "outputs": []
    },
    {
      "cell_type": "code",
      "source": [
        "y_data_l = np.array([one, X_l, M_l]).T\n",
        "y_data_m = np.array([one, X_m, M_m]).T\n",
        "y_data_r = np.array([one, X_r, M_r]).T"
      ],
      "metadata": {
        "id": "bJv_dTVW6JZp"
      },
      "execution_count": 56,
      "outputs": []
    },
    {
      "cell_type": "code",
      "source": [
        "y_data_l.shape"
      ],
      "metadata": {
        "colab": {
          "base_uri": "https://localhost:8080/"
        },
        "outputId": "1e7ead13-54a0-4120-b162-b9f995567eeb",
        "id": "FHjXqvSN6JZp"
      },
      "execution_count": 57,
      "outputs": [
        {
          "output_type": "execute_result",
          "data": {
            "text/plain": [
              "(1332, 3)"
            ]
          },
          "metadata": {},
          "execution_count": 57
        }
      ]
    },
    {
      "cell_type": "code",
      "source": [
        "def fitness_function_factory(X_l, X_m, X_r, Y_l, Y_m, Y_r):\n",
        "      def fitness_function(ga_instance,solution, solution_idx):\n",
        "\n",
        "          Y_hat_l = solution[0]*X_l[:,0] +solution[1]*X_l[:,1] +solution[2]*X_l[:,2]\n",
        "          Y_hat_m = solution[0]*X_m[:,0] +solution[1]*X_m[:,1] +solution[2]*X_m[:,2]\n",
        "          Y_hat_r = solution[0]*X_r[:,0] +solution[1]*X_r[:,1] +solution[2]*X_r[:,2]\n",
        "          error = ((Y_l - Y_hat_l) ** 2).sum() + ((Y_m - Y_hat_m) ** 2).sum() + ((Y_r - Y_hat_r) ** 2).sum()\n",
        "          fitness = 1/(error)\n",
        "          return fitness\n",
        "\n",
        "      return fitness_function"
      ],
      "metadata": {
        "id": "PL8mURnx6JZq"
      },
      "execution_count": 58,
      "outputs": []
    },
    {
      "cell_type": "code",
      "source": [
        "lr_ga = pygad.GA(num_generations=num_generations,\n",
        "                        num_parents_mating=num_parents_mating,\n",
        "                        fitness_func=fitness_function_factory(y_data_l,y_data_m, y_data_r, Y_l, Y_m, Y_r),\n",
        "                        sol_per_pop=sol_per_pop,\n",
        "                        num_genes=num_genes,\n",
        "                        init_range_low=init_range_low,\n",
        "                        init_range_high=init_range_high,\n",
        "                        parent_selection_type=parent_selection_type,\n",
        "                        keep_parents=keep_parents,\n",
        "                        crossover_type=crossover_type,\n",
        "                        mutation_type=mutation_type,\n",
        "                        mutation_percent_genes=mutation_percent_genes,\n",
        "                        gene_type=gene_type,\n",
        "                        random_seed=18)\n",
        "lr_ga.run()\n",
        "sol=lr_ga.best_solution()[0]\n",
        "sol"
      ],
      "metadata": {
        "colab": {
          "base_uri": "https://localhost:8080/"
        },
        "outputId": "8edfc325-3e65-442b-a3f3-233b43d15bdf",
        "id": "hAnf0Xsj6JZq"
      },
      "execution_count": 59,
      "outputs": [
        {
          "output_type": "execute_result",
          "data": {
            "text/plain": [
              "array([ 0.53906806,  0.56210726, -0.77535926])"
            ]
          },
          "metadata": {},
          "execution_count": 59
        }
      ]
    },
    {
      "cell_type": "code",
      "source": [
        "print(sol)"
      ],
      "metadata": {
        "colab": {
          "base_uri": "https://localhost:8080/"
        },
        "outputId": "b1feee62-7539-4b4c-839f-5f7a36b6e592",
        "id": "a15Gk6yb6JZr"
      },
      "execution_count": 60,
      "outputs": [
        {
          "output_type": "stream",
          "name": "stdout",
          "text": [
            "[ 0.53906806  0.56210726 -0.77535926]\n"
          ]
        }
      ]
    },
    {
      "cell_type": "markdown",
      "source": [
        "## MSE & MAE"
      ],
      "metadata": {
        "id": "u3DyE1R66JZr"
      }
    },
    {
      "cell_type": "code",
      "source": [
        "one_fuz = np.ones((1332,3))"
      ],
      "metadata": {
        "id": "gILzRHiv6JZs"
      },
      "execution_count": 61,
      "outputs": []
    },
    {
      "cell_type": "code",
      "source": [
        "Y_fuz_hat = 0.5391 *one_fuz + 0.5621*X_fuz + -0.7754*M_hat"
      ],
      "metadata": {
        "id": "6yhCquq86JZs"
      },
      "execution_count": 62,
      "outputs": []
    },
    {
      "cell_type": "markdown",
      "source": [
        "* MSE"
      ],
      "metadata": {
        "id": "IDfIUvRa6JZs"
      }
    },
    {
      "cell_type": "code",
      "source": [
        "mse = ((Y_fuz - Y_fuz_hat) ** 2).sum(axis=1).sum() / 1332\n",
        "print(mse)"
      ],
      "metadata": {
        "colab": {
          "base_uri": "https://localhost:8080/"
        },
        "outputId": "82c9ac4c-93fa-4dee-c953-32738a80184c",
        "id": "cIHHDhHb6JZs"
      },
      "execution_count": 63,
      "outputs": [
        {
          "output_type": "stream",
          "name": "stdout",
          "text": [
            "0.107493083136409\n"
          ]
        }
      ]
    },
    {
      "cell_type": "markdown",
      "source": [
        "* MAE"
      ],
      "metadata": {
        "id": "ftmmnyD46JZs"
      }
    },
    {
      "cell_type": "code",
      "source": [
        "abs = np.abs(Y_fuz - Y_fuz_hat)\n",
        "mae = abs.sum(axis=1).sum()/len(data_18)\n",
        "print(mae)"
      ],
      "metadata": {
        "colab": {
          "base_uri": "https://localhost:8080/"
        },
        "outputId": "707f4512-46c3-4ee1-f18c-868fcb40ac03",
        "id": "kaKzG1W26JZt"
      },
      "execution_count": 64,
      "outputs": [
        {
          "output_type": "stream",
          "name": "stdout",
          "text": [
            "0.45641610788447856\n"
          ]
        }
      ]
    },
    {
      "cell_type": "markdown",
      "source": [
        "---"
      ],
      "metadata": {
        "id": "cHpVAsfG6F8N"
      }
    },
    {
      "cell_type": "markdown",
      "source": [
        "# L1-metric"
      ],
      "metadata": {
        "id": "M6oBAKfm6CMZ"
      }
    },
    {
      "cell_type": "markdown",
      "source": [
        "## M 추정"
      ],
      "metadata": {
        "id": "K1aT2wthtJ4s"
      }
    },
    {
      "cell_type": "code",
      "source": [
        "# GA parameter 세팅\n",
        "\n",
        "sol_per_pop = 200\n",
        "num_genes = 8               # bias 포함\n",
        "init_range_low = -1\n",
        "init_range_high = 1\n",
        "\n",
        "\n",
        "num_generations = 200\n",
        "num_parents_mating = 5\n",
        "gene_type = float\n",
        "parent_selection_type = \"rws\"  # rws, rank\n",
        "keep_parents = 3\n",
        "\n",
        "crossover_type = \"single_point\"\n",
        "mutation_type = \"random\"\n",
        "mutation_percent_genes = 5"
      ],
      "metadata": {
        "id": "UUCyclwjuVfp"
      },
      "execution_count": 123,
      "outputs": []
    },
    {
      "cell_type": "code",
      "source": [
        "one = np.ones((1332)) # bias"
      ],
      "metadata": {
        "id": "18GvUNYpuenK"
      },
      "execution_count": 124,
      "outputs": []
    },
    {
      "cell_type": "code",
      "source": [
        "m_data_l = np.array([one, X_l, W_l, Z_l, XW_l, XZ_l, WZ_l, XWZ_l]).T\n",
        "m_data_m = np.array([one, X_m, W_m, Z_m, XW_m, XZ_m, WZ_m, XWZ_m]).T\n",
        "m_data_r = np.array([one, X_r, W_r, Z_r, XW_r, XZ_r, WZ_r, XWZ_r]).T"
      ],
      "metadata": {
        "id": "_uMMWrResQi2"
      },
      "execution_count": 125,
      "outputs": []
    },
    {
      "cell_type": "code",
      "source": [
        "m_data_l.shape"
      ],
      "metadata": {
        "colab": {
          "base_uri": "https://localhost:8080/"
        },
        "id": "tGK23t-Ft0wf",
        "outputId": "7019ca2e-678a-4384-f186-0c1730c10640"
      },
      "execution_count": 126,
      "outputs": [
        {
          "output_type": "execute_result",
          "data": {
            "text/plain": [
              "(1332, 8)"
            ]
          },
          "metadata": {},
          "execution_count": 126
        }
      ]
    },
    {
      "cell_type": "code",
      "source": [
        "def fitness_function_factory(X_l, X_m, X_r, Y_l, Y_m, Y_r):\n",
        "      def fitness_function(ga_instance,solution, solution_idx):\n",
        "\n",
        "          Y_hat_l = solution[0]*X_l[:,0] +solution[1]*X_l[:,1] +solution[2]*X_l[:,2] +solution[3]*X_l[:,3] +solution[4]*X_l[:,4] +solution[5]*X_l[:,5] +solution[6]*X_l[:,6] +solution[7]*X_l[:,7]\n",
        "          Y_hat_m = solution[0]*X_m[:,0] +solution[1]*X_m[:,1] +solution[2]*X_m[:,2] +solution[3]*X_m[:,3] +solution[4]*X_m[:,4] +solution[5]*X_m[:,5] +solution[6]*X_m[:,6] +solution[7]*X_m[:,7]\n",
        "          Y_hat_r = solution[0]*X_r[:,0] +solution[1]*X_r[:,1] +solution[2]*X_r[:,2] +solution[3]*X_r[:,3] +solution[4]*X_r[:,4] +solution[5]*X_r[:,5] +solution[6]*X_r[:,6] +solution[7]*X_r[:,7]\n",
        "          error_l = np.abs(Y_l - Y_hat_l)\n",
        "          error_m = np.abs(Y_m - Y_hat_m)\n",
        "          error_r = np.abs(Y_r - Y_hat_r)\n",
        "          errors = np.sum(error_l) + np.sum(error_m) + np.sum(error_r)\n",
        "          fitness = 1/(errors)\n",
        "          return fitness\n",
        "\n",
        "      return fitness_function"
      ],
      "metadata": {
        "id": "hQIvyGGhvEky"
      },
      "execution_count": 127,
      "outputs": []
    },
    {
      "cell_type": "code",
      "source": [
        "lr_ga = pygad.GA(num_generations=num_generations,\n",
        "                        num_parents_mating=num_parents_mating,\n",
        "                        fitness_func=fitness_function_factory(m_data_l,m_data_m, m_data_r, M_l, M_m, M_r),\n",
        "                        sol_per_pop=sol_per_pop,\n",
        "                        num_genes=num_genes,\n",
        "                        init_range_low=init_range_low,\n",
        "                        init_range_high=init_range_high,\n",
        "                        parent_selection_type=parent_selection_type,\n",
        "                        keep_parents=keep_parents,\n",
        "                        crossover_type=crossover_type,\n",
        "                        mutation_type=mutation_type,\n",
        "                        mutation_percent_genes=mutation_percent_genes,\n",
        "                        gene_type=gene_type,\n",
        "                        random_seed=18)\n",
        "lr_ga.run()\n",
        "sol=lr_ga.best_solution()[0]\n",
        "sol"
      ],
      "metadata": {
        "colab": {
          "base_uri": "https://localhost:8080/"
        },
        "id": "j9_tPavAveDg",
        "outputId": "6cf2a8f1-0793-4387-89c2-1dff5e48eccf"
      },
      "execution_count": 128,
      "outputs": [
        {
          "output_type": "execute_result",
          "data": {
            "text/plain": [
              "array([-0.12614321,  0.78929817,  0.27933923,  1.37996731, -0.37715368,\n",
              "       -0.96040415, -0.50426299,  0.5738974 ])"
            ]
          },
          "metadata": {},
          "execution_count": 128
        }
      ]
    },
    {
      "cell_type": "code",
      "source": [
        "print(sol)"
      ],
      "metadata": {
        "colab": {
          "base_uri": "https://localhost:8080/"
        },
        "id": "pwelcJQg_q6e",
        "outputId": "6e091eec-68f8-4ce0-e8d9-5cfaffddf716"
      },
      "execution_count": 129,
      "outputs": [
        {
          "output_type": "stream",
          "name": "stdout",
          "text": [
            "[-0.12614321  0.78929817  0.27933923  1.37996731 -0.37715368 -0.96040415\n",
            " -0.50426299  0.5738974 ]\n"
          ]
        }
      ]
    },
    {
      "cell_type": "code",
      "source": [
        "M_hat = -0.1261 + 0.7893*X_fuz + 0.2793*W_fuz + 1.3800*Z_fuz + -0.3772*XW_fuz + -0.9604*XZ_fuz + -0.5043*WZ_fuz + 0.5739*XWZ_fuz"
      ],
      "metadata": {
        "id": "nlt7_nhgoYiA"
      },
      "execution_count": 130,
      "outputs": []
    },
    {
      "cell_type": "markdown",
      "source": [
        "----"
      ],
      "metadata": {
        "id": "g86YMqjyB0kZ"
      }
    },
    {
      "cell_type": "markdown",
      "source": [
        "## Y 추정"
      ],
      "metadata": {
        "id": "X5DO9t9iyoc8"
      }
    },
    {
      "cell_type": "code",
      "source": [
        "# GA parameter 세팅\n",
        "\n",
        "sol_per_pop = 200\n",
        "num_genes = 3              # bias 포함\n",
        "init_range_low = 1\n",
        "init_range_high = -1\n",
        "\n",
        "\n",
        "num_generations = 200\n",
        "num_parents_mating = 5\n",
        "gene_type = float\n",
        "parent_selection_type = \"rws\"  # rws, rank\n",
        "keep_parents = 3\n",
        "\n",
        "crossover_type = \"single_point\"\n",
        "mutation_type = \"random\"\n",
        "mutation_percent_genes = 5"
      ],
      "metadata": {
        "id": "6q-IXqhUyx4h"
      },
      "execution_count": 131,
      "outputs": []
    },
    {
      "cell_type": "code",
      "source": [
        "one = np.ones((1332)) # bias"
      ],
      "metadata": {
        "id": "9NZOKndNyx4i"
      },
      "execution_count": 132,
      "outputs": []
    },
    {
      "cell_type": "code",
      "source": [
        "y_data_l = np.array([one, X_l, M_l]).T\n",
        "y_data_m = np.array([one, X_m, M_m]).T\n",
        "y_data_r = np.array([one, X_r, M_r]).T"
      ],
      "metadata": {
        "id": "JlB1HZ9Gyx4i"
      },
      "execution_count": 133,
      "outputs": []
    },
    {
      "cell_type": "code",
      "source": [
        "y_data_l.shape"
      ],
      "metadata": {
        "colab": {
          "base_uri": "https://localhost:8080/"
        },
        "outputId": "79c6428f-b4d3-4e70-a0b6-0a15747ff116",
        "id": "z9UaeUDJyx4i"
      },
      "execution_count": 134,
      "outputs": [
        {
          "output_type": "execute_result",
          "data": {
            "text/plain": [
              "(1332, 3)"
            ]
          },
          "metadata": {},
          "execution_count": 134
        }
      ]
    },
    {
      "cell_type": "code",
      "source": [
        "def fitness_function_factory(X_l, X_m, X_r, Y_l, Y_m, Y_r):\n",
        "      def fitness_function(ga_instance,solution, solution_idx):\n",
        "\n",
        "          Y_hat_l = solution[0]*X_l[:,0] +solution[1]*X_l[:,1] +solution[2]*X_l[:,2]\n",
        "          Y_hat_m = solution[0]*X_m[:,0] +solution[1]*X_m[:,1] +solution[2]*X_m[:,2]\n",
        "          Y_hat_r = solution[0]*X_r[:,0] +solution[1]*X_r[:,1] +solution[2]*X_r[:,2]\n",
        "          error_l = np.abs(Y_l - Y_hat_l)\n",
        "          error_m = np.abs(Y_m - Y_hat_m)\n",
        "          error_r = np.abs(Y_r - Y_hat_r)\n",
        "          errors = np.sum(error_l) + np.sum(error_m) + np.sum(error_r)\n",
        "          fitness = 1/(errors)\n",
        "          return fitness\n",
        "\n",
        "      return fitness_function"
      ],
      "metadata": {
        "id": "D8kKG-6Eyx4i"
      },
      "execution_count": 135,
      "outputs": []
    },
    {
      "cell_type": "code",
      "source": [
        "lr_ga = pygad.GA(num_generations=num_generations,\n",
        "                        num_parents_mating=num_parents_mating,\n",
        "                        fitness_func=fitness_function_factory(y_data_l, y_data_m, y_data_r, Y_l, Y_m, Y_r),\n",
        "                        sol_per_pop=sol_per_pop,\n",
        "                        num_genes=num_genes,\n",
        "                        init_range_low=init_range_low,\n",
        "                        init_range_high=init_range_high,\n",
        "                        parent_selection_type=parent_selection_type,\n",
        "                        keep_parents=keep_parents,\n",
        "                        crossover_type=crossover_type,\n",
        "                        mutation_type=mutation_type,\n",
        "                        mutation_percent_genes=mutation_percent_genes,\n",
        "                        gene_type=gene_type,\n",
        "                        random_seed=18)\n",
        "lr_ga.run()\n",
        "sol = lr_ga.best_solution()[0]\n",
        "sol"
      ],
      "metadata": {
        "colab": {
          "base_uri": "https://localhost:8080/"
        },
        "outputId": "2460f23c-0868-4312-a467-604a7ea21cc4",
        "id": "1LMXZbBqyx4j"
      },
      "execution_count": 136,
      "outputs": [
        {
          "output_type": "stream",
          "name": "stderr",
          "text": [
            "/usr/local/lib/python3.10/dist-packages/pygad/pygad.py:748: UserWarning: The percentage of genes to mutate (mutation_percent_genes=5) resutled in selecting (0) genes. The number of genes to mutate is set to 1 (mutation_num_genes=1).\n",
            "If you do not want to mutate any gene, please set mutation_type=None.\n",
            "  warnings.warn(f\"The percentage of genes to mutate (mutation_percent_genes={mutation_percent_genes}) resutled in selecting ({mutation_num_genes}) genes. The number of genes to mutate is set to 1 (mutation_num_genes=1).\\nIf you do not want to mutate any gene, please set mutation_type=None.\")\n"
          ]
        },
        {
          "output_type": "execute_result",
          "data": {
            "text/plain": [
              "array([ 0.59886145,  0.48532108, -0.81964345])"
            ]
          },
          "metadata": {},
          "execution_count": 136
        }
      ]
    },
    {
      "cell_type": "code",
      "source": [
        "print(sol)"
      ],
      "metadata": {
        "colab": {
          "base_uri": "https://localhost:8080/"
        },
        "id": "HDjIsKPUzhnu",
        "outputId": "4a34d495-b8a7-49fd-db26-65471651bc48"
      },
      "execution_count": 137,
      "outputs": [
        {
          "output_type": "stream",
          "name": "stdout",
          "text": [
            "[ 0.59886145  0.48532108 -0.81964345]\n"
          ]
        }
      ]
    },
    {
      "cell_type": "markdown",
      "source": [
        "## MSE & MAE"
      ],
      "metadata": {
        "id": "abssQNK2zqDm"
      }
    },
    {
      "cell_type": "code",
      "source": [
        "one_fuz = np.ones((1332,3))"
      ],
      "metadata": {
        "id": "I63hZK98B-NA"
      },
      "execution_count": 138,
      "outputs": []
    },
    {
      "cell_type": "code",
      "source": [
        "Y_fuz_hat = 0.5989*one_fuz + 0.4853*X_fuz + -0.8196*M_hat"
      ],
      "metadata": {
        "id": "aUuAnRuuYXrr"
      },
      "execution_count": 139,
      "outputs": []
    },
    {
      "cell_type": "markdown",
      "source": [
        "* MSE"
      ],
      "metadata": {
        "id": "XtbvjcovUQJr"
      }
    },
    {
      "cell_type": "code",
      "source": [
        "mse = ((Y_fuz - Y_fuz_hat) ** 2).sum(axis=1).sum() / 1332\n",
        "print(mse)"
      ],
      "metadata": {
        "colab": {
          "base_uri": "https://localhost:8080/"
        },
        "outputId": "f7a1c20e-887a-4b9b-b1a6-b93d9a94d7a0",
        "id": "XlsElW3uYXrv"
      },
      "execution_count": 140,
      "outputs": [
        {
          "output_type": "stream",
          "name": "stdout",
          "text": [
            "0.12122206725716603\n"
          ]
        }
      ]
    },
    {
      "cell_type": "markdown",
      "source": [
        "* MAE"
      ],
      "metadata": {
        "id": "rKtyjnL4UPz4"
      }
    },
    {
      "cell_type": "code",
      "source": [
        "abs = np.abs(Y_fuz - Y_fuz_hat)\n",
        "mae = abs.sum(axis=1).sum()/len(data_18)\n",
        "print(mae)"
      ],
      "metadata": {
        "colab": {
          "base_uri": "https://localhost:8080/"
        },
        "id": "e7wU5l1VULXx",
        "outputId": "03ab8e3c-61ae-4d99-ba85-8c60ea20cae2"
      },
      "execution_count": 141,
      "outputs": [
        {
          "output_type": "stream",
          "name": "stdout",
          "text": [
            "0.4916195779496951\n"
          ]
        }
      ]
    }
  ]
}